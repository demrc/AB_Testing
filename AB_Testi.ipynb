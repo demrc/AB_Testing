{
 "cells": [
  {
   "cell_type": "code",
   "execution_count": 1,
   "id": "bcf2ac72",
   "metadata": {},
   "outputs": [],
   "source": [
    "import itertools\n",
    "import numpy as np\n",
    "import pandas as pd\n",
    "import matplotlib.pyplot as plt\n",
    "import seaborn as sns\n",
    "# !pip install statsmodels\n",
    "import statsmodels.stats.api as sms\n",
    "from scipy.stats import ttest_1samp, shapiro, levene, ttest_ind, mannwhitneyu, \\\n",
    "    pearsonr, spearmanr, kendalltau, f_oneway, kruskal\n",
    "from statsmodels.stats.proportion import proportions_ztest\n",
    "\n",
    "pd.set_option('display.max_columns', None)\n",
    "pd.set_option('display.max_rows', 10)\n",
    "pd.set_option('display.float_format', lambda x: '%.5f' % x)"
   ]
  },
  {
   "cell_type": "code",
   "execution_count": 2,
   "id": "7e837bec",
   "metadata": {},
   "outputs": [],
   "source": [
    "#Part 1"
   ]
  },
  {
   "cell_type": "code",
   "execution_count": 3,
   "id": "145919b5",
   "metadata": {},
   "outputs": [],
   "source": [
    "df_t_ = pd.read_excel(\"ab_testing.xlsx\" , sheet_name = \"Test Group\") #Step1\n",
    "df_k_ = pd.read_excel(\"ab_testing.xlsx\" , sheet_name = \"Control Group\")"
   ]
  },
  {
   "cell_type": "code",
   "execution_count": 4,
   "id": "94ff7f3c",
   "metadata": {},
   "outputs": [],
   "source": [
    "df_t = df_t_\n",
    "df_k = df_k_"
   ]
  },
  {
   "cell_type": "code",
   "execution_count": 5,
   "id": "189f16ba",
   "metadata": {},
   "outputs": [
    {
     "data": {
      "text/html": [
       "<div>\n",
       "<style scoped>\n",
       "    .dataframe tbody tr th:only-of-type {\n",
       "        vertical-align: middle;\n",
       "    }\n",
       "\n",
       "    .dataframe tbody tr th {\n",
       "        vertical-align: top;\n",
       "    }\n",
       "\n",
       "    .dataframe thead th {\n",
       "        text-align: right;\n",
       "    }\n",
       "</style>\n",
       "<table border=\"1\" class=\"dataframe\">\n",
       "  <thead>\n",
       "    <tr style=\"text-align: right;\">\n",
       "      <th></th>\n",
       "      <th></th>\n",
       "      <th>Earning</th>\n",
       "    </tr>\n",
       "    <tr>\n",
       "      <th>Click</th>\n",
       "      <th>Purchase</th>\n",
       "      <th></th>\n",
       "    </tr>\n",
       "  </thead>\n",
       "  <tbody>\n",
       "    <tr>\n",
       "      <th>1836.62986</th>\n",
       "      <th>822.59992</th>\n",
       "      <td>2286.71452</td>\n",
       "    </tr>\n",
       "    <tr>\n",
       "      <th>2268.94706</th>\n",
       "      <th>346.46262</th>\n",
       "      <td>2615.57296</td>\n",
       "    </tr>\n",
       "    <tr>\n",
       "      <th>2617.80386</th>\n",
       "      <th>372.12579</th>\n",
       "      <td>1947.74713</td>\n",
       "    </tr>\n",
       "    <tr>\n",
       "      <th>2736.41023</th>\n",
       "      <th>748.49661</th>\n",
       "      <td>2189.61267</td>\n",
       "    </tr>\n",
       "    <tr>\n",
       "      <th>2937.36032</th>\n",
       "      <th>531.97083</th>\n",
       "      <td>2538.08893</td>\n",
       "    </tr>\n",
       "  </tbody>\n",
       "</table>\n",
       "</div>"
      ],
      "text/plain": [
       "                        Earning\n",
       "Click      Purchase            \n",
       "1836.62986 822.59992 2286.71452\n",
       "2268.94706 346.46262 2615.57296\n",
       "2617.80386 372.12579 1947.74713\n",
       "2736.41023 748.49661 2189.61267\n",
       "2937.36032 531.97083 2538.08893"
      ]
     },
     "execution_count": 5,
     "metadata": {},
     "output_type": "execute_result"
    }
   ],
   "source": [
    "df_t.groupby([\"Click\",\"Purchase\"]).agg({\"Earning\":\"mean\"}).head() #Step2"
   ]
  },
  {
   "cell_type": "code",
   "execution_count": 6,
   "id": "e0dd8234",
   "metadata": {},
   "outputs": [
    {
     "data": {
      "text/plain": [
       "582.1060966484675"
      ]
     },
     "execution_count": 6,
     "metadata": {},
     "output_type": "execute_result"
    }
   ],
   "source": [
    "df_t[\"Purchase\"].mean()"
   ]
  },
  {
   "cell_type": "code",
   "execution_count": 7,
   "id": "7583ba74",
   "metadata": {},
   "outputs": [
    {
     "data": {
      "text/html": [
       "<div>\n",
       "<style scoped>\n",
       "    .dataframe tbody tr th:only-of-type {\n",
       "        vertical-align: middle;\n",
       "    }\n",
       "\n",
       "    .dataframe tbody tr th {\n",
       "        vertical-align: top;\n",
       "    }\n",
       "\n",
       "    .dataframe thead th {\n",
       "        text-align: right;\n",
       "    }\n",
       "</style>\n",
       "<table border=\"1\" class=\"dataframe\">\n",
       "  <thead>\n",
       "    <tr style=\"text-align: right;\">\n",
       "      <th></th>\n",
       "      <th></th>\n",
       "      <th>Earning</th>\n",
       "    </tr>\n",
       "    <tr>\n",
       "      <th>Click</th>\n",
       "      <th>Purchase</th>\n",
       "      <th></th>\n",
       "    </tr>\n",
       "  </thead>\n",
       "  <tbody>\n",
       "    <tr>\n",
       "      <th>2189.75316</th>\n",
       "      <th>666.48207</th>\n",
       "      <td>2111.87374</td>\n",
       "    </tr>\n",
       "    <tr>\n",
       "      <th>3075.31120</th>\n",
       "      <th>530.67988</th>\n",
       "      <td>2101.31948</td>\n",
       "    </tr>\n",
       "    <tr>\n",
       "      <th>3382.86179</th>\n",
       "      <th>315.08489</th>\n",
       "      <td>1742.80686</td>\n",
       "    </tr>\n",
       "    <tr>\n",
       "      <th>3555.58067</th>\n",
       "      <th>512.92875</th>\n",
       "      <td>1815.00661</td>\n",
       "    </tr>\n",
       "    <tr>\n",
       "      <th>3585.03168</th>\n",
       "      <th>531.73273</th>\n",
       "      <td>2185.69490</td>\n",
       "    </tr>\n",
       "  </tbody>\n",
       "</table>\n",
       "</div>"
      ],
      "text/plain": [
       "                        Earning\n",
       "Click      Purchase            \n",
       "2189.75316 666.48207 2111.87374\n",
       "3075.31120 530.67988 2101.31948\n",
       "3382.86179 315.08489 1742.80686\n",
       "3555.58067 512.92875 1815.00661\n",
       "3585.03168 531.73273 2185.69490"
      ]
     },
     "execution_count": 7,
     "metadata": {},
     "output_type": "execute_result"
    }
   ],
   "source": [
    "df_k.groupby([\"Click\",\"Purchase\"]).agg({\"Earning\":\"mean\"}).head()"
   ]
  },
  {
   "cell_type": "code",
   "execution_count": 8,
   "id": "fe39d4ef",
   "metadata": {},
   "outputs": [
    {
     "data": {
      "text/plain": [
       "550.8940587702316"
      ]
     },
     "execution_count": 8,
     "metadata": {},
     "output_type": "execute_result"
    }
   ],
   "source": [
    "df_k[\"Purchase\"].mean()"
   ]
  },
  {
   "cell_type": "code",
   "execution_count": 9,
   "id": "55aea995",
   "metadata": {},
   "outputs": [],
   "source": [
    "#Test ve kontol gruplarını incelediğimizde kontrol grubunda Click sayıları test grubuna oranla daha fazla olmasına rağmen\n",
    "#ilk 5 gözlemde test grubunda Purchase ve Earning değerleri daha yüksek durmaktadır. Bunun kesinliğini AB testinden sonra \n",
    "#görebiliriz."
   ]
  },
  {
   "cell_type": "code",
   "execution_count": 10,
   "id": "8535eb22",
   "metadata": {},
   "outputs": [],
   "source": [
    "df_k[\"Group\"]=\"K\" #Step 3"
   ]
  },
  {
   "cell_type": "code",
   "execution_count": 11,
   "id": "4f1eb231",
   "metadata": {},
   "outputs": [],
   "source": [
    "df_t[\"Group\"]=\"T\""
   ]
  },
  {
   "cell_type": "code",
   "execution_count": 12,
   "id": "2111e84d",
   "metadata": {},
   "outputs": [],
   "source": [
    "df = pd.concat([df_k, df_t], ignore_index=True)"
   ]
  },
  {
   "cell_type": "code",
   "execution_count": 13,
   "id": "a587ae55",
   "metadata": {},
   "outputs": [
    {
     "data": {
      "text/html": [
       "<div>\n",
       "<style scoped>\n",
       "    .dataframe tbody tr th:only-of-type {\n",
       "        vertical-align: middle;\n",
       "    }\n",
       "\n",
       "    .dataframe tbody tr th {\n",
       "        vertical-align: top;\n",
       "    }\n",
       "\n",
       "    .dataframe thead th {\n",
       "        text-align: right;\n",
       "    }\n",
       "</style>\n",
       "<table border=\"1\" class=\"dataframe\">\n",
       "  <thead>\n",
       "    <tr style=\"text-align: right;\">\n",
       "      <th></th>\n",
       "      <th>Impression</th>\n",
       "      <th>Click</th>\n",
       "      <th>Purchase</th>\n",
       "      <th>Earning</th>\n",
       "      <th>Group</th>\n",
       "    </tr>\n",
       "  </thead>\n",
       "  <tbody>\n",
       "    <tr>\n",
       "      <th>0</th>\n",
       "      <td>82529.45927</td>\n",
       "      <td>6090.07732</td>\n",
       "      <td>665.21125</td>\n",
       "      <td>2311.27714</td>\n",
       "      <td>K</td>\n",
       "    </tr>\n",
       "    <tr>\n",
       "      <th>1</th>\n",
       "      <td>98050.45193</td>\n",
       "      <td>3382.86179</td>\n",
       "      <td>315.08489</td>\n",
       "      <td>1742.80686</td>\n",
       "      <td>K</td>\n",
       "    </tr>\n",
       "    <tr>\n",
       "      <th>2</th>\n",
       "      <td>82696.02355</td>\n",
       "      <td>4167.96575</td>\n",
       "      <td>458.08374</td>\n",
       "      <td>1797.82745</td>\n",
       "      <td>K</td>\n",
       "    </tr>\n",
       "    <tr>\n",
       "      <th>3</th>\n",
       "      <td>109914.40040</td>\n",
       "      <td>4910.88224</td>\n",
       "      <td>487.09077</td>\n",
       "      <td>1696.22918</td>\n",
       "      <td>K</td>\n",
       "    </tr>\n",
       "    <tr>\n",
       "      <th>4</th>\n",
       "      <td>108457.76263</td>\n",
       "      <td>5987.65581</td>\n",
       "      <td>441.03405</td>\n",
       "      <td>1543.72018</td>\n",
       "      <td>K</td>\n",
       "    </tr>\n",
       "    <tr>\n",
       "      <th>...</th>\n",
       "      <td>...</td>\n",
       "      <td>...</td>\n",
       "      <td>...</td>\n",
       "      <td>...</td>\n",
       "      <td>...</td>\n",
       "    </tr>\n",
       "    <tr>\n",
       "      <th>75</th>\n",
       "      <td>79234.91193</td>\n",
       "      <td>6002.21358</td>\n",
       "      <td>382.04712</td>\n",
       "      <td>2277.86398</td>\n",
       "      <td>T</td>\n",
       "    </tr>\n",
       "    <tr>\n",
       "      <th>76</th>\n",
       "      <td>130702.23941</td>\n",
       "      <td>3626.32007</td>\n",
       "      <td>449.82459</td>\n",
       "      <td>2530.84133</td>\n",
       "      <td>T</td>\n",
       "    </tr>\n",
       "    <tr>\n",
       "      <th>77</th>\n",
       "      <td>116481.87337</td>\n",
       "      <td>4702.78247</td>\n",
       "      <td>472.45373</td>\n",
       "      <td>2597.91763</td>\n",
       "      <td>T</td>\n",
       "    </tr>\n",
       "    <tr>\n",
       "      <th>78</th>\n",
       "      <td>79033.83492</td>\n",
       "      <td>4495.42818</td>\n",
       "      <td>425.35910</td>\n",
       "      <td>2595.85788</td>\n",
       "      <td>T</td>\n",
       "    </tr>\n",
       "    <tr>\n",
       "      <th>79</th>\n",
       "      <td>102257.45409</td>\n",
       "      <td>4800.06832</td>\n",
       "      <td>521.31073</td>\n",
       "      <td>2967.51839</td>\n",
       "      <td>T</td>\n",
       "    </tr>\n",
       "  </tbody>\n",
       "</table>\n",
       "<p>80 rows × 5 columns</p>\n",
       "</div>"
      ],
      "text/plain": [
       "     Impression      Click  Purchase    Earning Group\n",
       "0   82529.45927 6090.07732 665.21125 2311.27714     K\n",
       "1   98050.45193 3382.86179 315.08489 1742.80686     K\n",
       "2   82696.02355 4167.96575 458.08374 1797.82745     K\n",
       "3  109914.40040 4910.88224 487.09077 1696.22918     K\n",
       "4  108457.76263 5987.65581 441.03405 1543.72018     K\n",
       "..          ...        ...       ...        ...   ...\n",
       "75  79234.91193 6002.21358 382.04712 2277.86398     T\n",
       "76 130702.23941 3626.32007 449.82459 2530.84133     T\n",
       "77 116481.87337 4702.78247 472.45373 2597.91763     T\n",
       "78  79033.83492 4495.42818 425.35910 2595.85788     T\n",
       "79 102257.45409 4800.06832 521.31073 2967.51839     T\n",
       "\n",
       "[80 rows x 5 columns]"
      ]
     },
     "execution_count": 13,
     "metadata": {},
     "output_type": "execute_result"
    }
   ],
   "source": [
    "df"
   ]
  },
  {
   "cell_type": "code",
   "execution_count": 14,
   "id": "e95e679b",
   "metadata": {},
   "outputs": [],
   "source": [
    "#Part2"
   ]
  },
  {
   "cell_type": "code",
   "execution_count": 15,
   "id": "5ea58038",
   "metadata": {},
   "outputs": [],
   "source": [
    "#Step 1\n",
    "#Hipotez\n",
    "#H0:M1=M2(Kontrol grubu ve test grubu satın alma ortalamaları arasında fark yoktur.)\n",
    "#H1:M1!=M2M1=M2(Kontrol grubu ve test grubu satın alma ortalamaları arasında fark vardır.)"
   ]
  },
  {
   "cell_type": "code",
   "execution_count": 16,
   "id": "6a0c39a6",
   "metadata": {},
   "outputs": [
    {
     "data": {
      "text/html": [
       "<div>\n",
       "<style scoped>\n",
       "    .dataframe tbody tr th:only-of-type {\n",
       "        vertical-align: middle;\n",
       "    }\n",
       "\n",
       "    .dataframe tbody tr th {\n",
       "        vertical-align: top;\n",
       "    }\n",
       "\n",
       "    .dataframe thead th {\n",
       "        text-align: right;\n",
       "    }\n",
       "</style>\n",
       "<table border=\"1\" class=\"dataframe\">\n",
       "  <thead>\n",
       "    <tr style=\"text-align: right;\">\n",
       "      <th></th>\n",
       "      <th>Purchase</th>\n",
       "    </tr>\n",
       "    <tr>\n",
       "      <th>Group</th>\n",
       "      <th></th>\n",
       "    </tr>\n",
       "  </thead>\n",
       "  <tbody>\n",
       "    <tr>\n",
       "      <th>K</th>\n",
       "      <td>550.89406</td>\n",
       "    </tr>\n",
       "    <tr>\n",
       "      <th>T</th>\n",
       "      <td>582.10610</td>\n",
       "    </tr>\n",
       "  </tbody>\n",
       "</table>\n",
       "</div>"
      ],
      "text/plain": [
       "       Purchase\n",
       "Group          \n",
       "K     550.89406\n",
       "T     582.10610"
      ]
     },
     "execution_count": 16,
     "metadata": {},
     "output_type": "execute_result"
    }
   ],
   "source": [
    "df.groupby(\"Group\").agg({\"Purchase\":\"mean\"})"
   ]
  },
  {
   "cell_type": "code",
   "execution_count": 17,
   "id": "4d3d29f8",
   "metadata": {},
   "outputs": [
    {
     "name": "stdout",
     "output_type": "stream",
     "text": [
      "Test Stat = 0.9773, p-value = 0.5891\n"
     ]
    }
   ],
   "source": [
    "#Normalization Hypothesis\n",
    "test_stat, pvalue = shapiro(df.loc[df[\"Group\"]==\"K\",\"Purchase\"])\n",
    "print(\"Test Stat = %.4f, p-value = %.4f\" %(test_stat,pvalue))"
   ]
  },
  {
   "cell_type": "code",
   "execution_count": 18,
   "id": "1954e38d",
   "metadata": {},
   "outputs": [
    {
     "name": "stdout",
     "output_type": "stream",
     "text": [
      "Test Stat = 0.9589, p-value = 0.1541\n"
     ]
    }
   ],
   "source": [
    "test_stat, pvalue = shapiro(df.loc[df[\"Group\"]==\"T\",\"Purchase\"])\n",
    "print(\"Test Stat = %.4f, p-value = %.4f\" %(test_stat,pvalue))"
   ]
  },
  {
   "cell_type": "code",
   "execution_count": 19,
   "id": "00250d9a",
   "metadata": {},
   "outputs": [],
   "source": [
    "#Normallik varsayımı testi uyguladığımızda ortaya çıkan p değerlerine göre normallik varsayımı sağlanmaktadır.\n",
    "#Yani H0 reddedilemez."
   ]
  },
  {
   "cell_type": "code",
   "execution_count": 20,
   "id": "2ec348a1",
   "metadata": {},
   "outputs": [
    {
     "name": "stdout",
     "output_type": "stream",
     "text": [
      "Test Stat = 2.6393, p-value = 0.1083\n"
     ]
    }
   ],
   "source": [
    "#Variance Hypothesis\n",
    "test_stat, pvalue = levene(df.loc[df[\"Group\"]==\"T\",\"Purchase\"],df.loc[df[\"Group\"]==\"K\",\"Purchase\"])\n",
    "print(\"Test Stat = %.4f, p-value = %.4f\" %(test_stat,pvalue))"
   ]
  },
  {
   "cell_type": "code",
   "execution_count": 21,
   "id": "85f13fe4",
   "metadata": {},
   "outputs": [],
   "source": [
    "# Varyans hipotezi testi uyguladığımızda ortaya çıkan p değerlerine göre varyans hipotezi sağlanmaktadır.\n",
    "#Yani H0 reddedilemez."
   ]
  },
  {
   "cell_type": "code",
   "execution_count": 53,
   "id": "78285915",
   "metadata": {},
   "outputs": [],
   "source": [
    "#Step 2"
   ]
  },
  {
   "cell_type": "code",
   "execution_count": 54,
   "id": "9eb7bce2",
   "metadata": {},
   "outputs": [
    {
     "name": "stdout",
     "output_type": "stream",
     "text": [
      "Test Stat = -0.9416, p-value = 0.3493\n"
     ]
    }
   ],
   "source": [
    "test_stat, pvalue = ttest_ind(df.loc[df[\"Group\"]==\"K\",\"Purchase\"],df.loc[df[\"Group\"]==\"T\",\"Purchase\"],equal_var=True)\n",
    "print(\"Test Stat = %.4f, p-value = %.4f\" %(test_stat,pvalue))"
   ]
  },
  {
   "cell_type": "code",
   "execution_count": 55,
   "id": "7dddfa42",
   "metadata": {},
   "outputs": [],
   "source": [
    "#Elde edilen p-value değerine göre kontrol ve test grubu ortalamaları arasında istatistiki olarak kayda değer bir fark\n",
    "#yoktur. p<0.05 değerini sağlamadığı için H0 reddedilememektedir. Hipotez doğrudur."
   ]
  },
  {
   "cell_type": "code",
   "execution_count": 56,
   "id": "11a62f3f",
   "metadata": {},
   "outputs": [],
   "source": [
    "#Part 3"
   ]
  },
  {
   "cell_type": "code",
   "execution_count": 57,
   "id": "4f1dad0f",
   "metadata": {},
   "outputs": [],
   "source": [
    "#Step 1\n",
    "#Her iki hipotez veriler için sağlanmaktadır. Tüm varsayımların sağlandığı durumlarda kullanacağımız test türü parametrik\n",
    "# test için kullanılan \"ttest_ind\" olacaktır."
   ]
  },
  {
   "cell_type": "code",
   "execution_count": null,
   "id": "c145d462",
   "metadata": {},
   "outputs": [],
   "source": [
    "#Step 2\n",
    "#Mevcut olarak kullanılan yöntemi değiştirmek kayda değer bir satın alma farkı gözükmemektedir. Yeni yönteme ayrılacak \n",
    "#bütçenin müşteriler için kampanyalara veya reklamlara aktarılabilir."
   ]
  }
 ],
 "metadata": {
  "kernelspec": {
   "display_name": "Python 3 (ipykernel)",
   "language": "python",
   "name": "python3"
  },
  "language_info": {
   "codemirror_mode": {
    "name": "ipython",
    "version": 3
   },
   "file_extension": ".py",
   "mimetype": "text/x-python",
   "name": "python",
   "nbconvert_exporter": "python",
   "pygments_lexer": "ipython3",
   "version": "3.9.7"
  }
 },
 "nbformat": 4,
 "nbformat_minor": 5
}
